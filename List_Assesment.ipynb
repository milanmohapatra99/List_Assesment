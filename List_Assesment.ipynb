{
 "cells": [
  {
   "cell_type": "code",
   "execution_count": 1,
   "id": "d08accf5",
   "metadata": {},
   "outputs": [
    {
     "name": "stdout",
     "output_type": "stream",
     "text": [
      "Current names List is: ['Jimin', 'Peter', 'Bille', 'Salena']\n",
      "Please enter a name:\n",
      "Justin\n",
      "Updated name List is: ['Jimin', 'Peter', 'Bille', 'Salena', 'Justin']\n"
     ]
    }
   ],
   "source": [
    "# w.a.p to append element ina list\n",
    "names = [\"Jimin\", \"Peter\", \"Bille\", \"Salena\"]  \n",
    "print('Current names List is:', names)  \n",
    "new_name = input(\"Please enter a name:\\n\")  \n",
    "names.append(new_name)  \n",
    "print('Updated name List is:', names)  "
   ]
  },
  {
   "cell_type": "code",
   "execution_count": 4,
   "id": "7a0a699e",
   "metadata": {},
   "outputs": [
    {
     "name": "stdout",
     "output_type": "stream",
     "text": [
      "The list1 and list3 are not the same\n",
      "The list1 and list2 are not the same\n"
     ]
    }
   ],
   "source": [
    "# w.a.p to compair 2 lists\n",
    "import collections  \n",
    "list1 = [10, 20, 30, 40, 50, 60]  \n",
    "list2 = [70, 20, 30, 50, 40, 70]  \n",
    "list3 = [70, 10, 30, 20, 60, 40]  \n",
    "\n",
    "list1.sort()  \n",
    "list2.sort()  \n",
    "list3.sort()  \n",
    "  \n",
    "\n",
    "if list1 == list2:  \n",
    "    print(\"The list1 and list2 are the same\")  \n",
    "else:  \n",
    "    print(\"The list1 and list3 are not the same\")  \n",
    "\n",
    "if list1 == list3:  \n",
    "    print(\"The list1 and list2 are not the same\")  \n",
    "else:  \n",
    "    print(\"The list1 and list2 are not the same\")  "
   ]
  },
  {
   "cell_type": "code",
   "execution_count": 6,
   "id": "ae962a2f",
   "metadata": {},
   "outputs": [
    {
     "name": "stdout",
     "output_type": "stream",
     "text": [
      "{'Justin': 'Passed', 'Abhinay': 'Passed', 'Aditi': 'Passed', 'Vicky': 'Passed'}\n"
     ]
    }
   ],
   "source": [
    "# w.a.p to convert list to dictionary\n",
    "student = [\"Justin\", \"Abhinay\", \"Aditi\", \"Vicky\"]  \n",
    "std_dictionary = { stu : \"Passed\" for stu in student }    \n",
    "print(std_dictionary)  "
   ]
  },
  {
   "cell_type": "code",
   "execution_count": 8,
   "id": "b428d1f8",
   "metadata": {},
   "outputs": [
    {
     "name": "stdout",
     "output_type": "stream",
     "text": [
      "The list is:  ['Selena', 'Bobby', 'Charlie', 'Ved', 'Joe']\n",
      "After removing element:  ['Selena', 'Charlie', 'Ved', 'Joe']\n"
     ]
    }
   ],
   "source": [
    "# w.a.p to remove an element from list\n",
    "lst = ['Selena', 'Bobby', 'Charlie', 'Ved', 'Joe']  \n",
    "print(\"The list is: \", lst)  \n",
    "lst.remove('Bobby')  \n",
    "print(\"After removing element: \",lst)  "
   ]
  },
  {
   "cell_type": "code",
   "execution_count": 10,
   "id": "095a9809",
   "metadata": {},
   "outputs": [
    {
     "name": "stdout",
     "output_type": "stream",
     "text": [
      "{'Sara', 'Joe', 'Steve', 'Mark', 'Andy', 'Bille', 'Glory', 'Joseph', 'James'}\n"
     ]
    }
   ],
   "source": [
    "# w.a.p to covert list to set\n",
    "names = [\"Glory\", \"Joe\", \"James\", \"Mark\", \"Bille\", \"James\", \"Steve\", \"Sara\", \"Andy\", \"Joseph\"]  \n",
    "unique_names = set(names)  \n",
    "print(unique_names)  \n"
   ]
  },
  {
   "cell_type": "code",
   "execution_count": null,
   "id": "619f7a53",
   "metadata": {},
   "outputs": [],
   "source": []
  }
 ],
 "metadata": {
  "kernelspec": {
   "display_name": "Python 3 (ipykernel)",
   "language": "python",
   "name": "python3"
  },
  "language_info": {
   "codemirror_mode": {
    "name": "ipython",
    "version": 3
   },
   "file_extension": ".py",
   "mimetype": "text/x-python",
   "name": "python",
   "nbconvert_exporter": "python",
   "pygments_lexer": "ipython3",
   "version": "3.9.7"
  }
 },
 "nbformat": 4,
 "nbformat_minor": 5
}
